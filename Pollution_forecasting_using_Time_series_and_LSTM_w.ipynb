{
  "nbformat": 4,
  "nbformat_minor": 0,
  "metadata": {
    "colab": {
      "name": "Pollution forecasting using Time series and LSTM w.ipynb",
      "provenance": [],
      "include_colab_link": true
    },
    "kernelspec": {
      "display_name": "Python 3",
      "language": "python",
      "name": "python3"
    },
    "language_info": {
      "codemirror_mode": {
        "name": "ipython",
        "version": 3
      },
      "file_extension": ".py",
      "mimetype": "text/x-python",
      "name": "python",
      "nbconvert_exporter": "python",
      "pygments_lexer": "ipython3",
      "version": "3.7.4"
    }
  },
  "cells": [
    {
      "cell_type": "markdown",
      "metadata": {
        "id": "view-in-github",
        "colab_type": "text"
      },
      "source": [
        "<a href=\"https://colab.research.google.com/github/rohit-rcrohit7/AQLoRaBurk/blob/master/Pollution_forecasting_using_Time_series_and_LSTM_w.ipynb\" target=\"_parent\"><img src=\"https://colab.research.google.com/assets/colab-badge.svg\" alt=\"Open In Colab\"/></a>"
      ]
    },
    {
      "cell_type": "code",
      "metadata": {
        "trusted": true,
        "id": "wQUs23K7CtMH",
        "colab_type": "code",
        "colab": {}
      },
      "source": [
        "!apt install cuda"
      ],
      "execution_count": 0,
      "outputs": []
    },
    {
      "cell_type": "code",
      "metadata": {
        "colab_type": "code",
        "id": "LUF7ZuY9_Bw2",
        "trusted": false,
        "colab": {}
      },
      "source": [
        "!pip install mxnet-cu101 numpy pandas matplotlib"
      ],
      "execution_count": 0,
      "outputs": []
    },
    {
      "cell_type": "code",
      "metadata": {
        "colab_type": "code",
        "id": "y7VnSqup_pyM",
        "trusted": true,
        "colab": {}
      },
      "source": [
        "!wget https://archive.ics.uci.edu/ml/machine-learning-databases/00381/PRSA_data_2010.1.1-2014.12.31.csv"
      ],
      "execution_count": 0,
      "outputs": []
    },
    {
      "cell_type": "code",
      "metadata": {
        "colab_type": "code",
        "id": "-WQEs1oLAINv",
        "trusted": true,
        "colab": {}
      },
      "source": [
        "import pandas as pd\n",
        "import numpy as np\n",
        "import matplotlib.pyplot as plt\n",
        "plt.style.use('seaborn')\n",
        "\n",
        "import mxnet\n",
        "import mxnet.gluon as G\n",
        "\n",
        "from sklearn.preprocessing import MinMaxScaler\n",
        "from sklearn.preprocessing import LabelEncoder"
      ],
      "execution_count": 0,
      "outputs": []
    },
    {
      "cell_type": "code",
      "metadata": {
        "colab_type": "code",
        "id": "h4zfuotlAX4A",
        "trusted": true,
        "colab": {}
      },
      "source": [
        "data = pd.read_csv(\"PRSA_data_2010.1.1-2014.12.31.csv\")"
      ],
      "execution_count": 0,
      "outputs": []
    },
    {
      "cell_type": "code",
      "metadata": {
        "colab_type": "code",
        "id": "vU-CXyAGA78r",
        "trusted": true,
        "colab": {}
      },
      "source": [
        "data.head()"
      ],
      "execution_count": 0,
      "outputs": []
    },
    {
      "cell_type": "code",
      "metadata": {
        "colab_type": "code",
        "id": "_PgxEA9jBTyU",
        "trusted": true,
        "colab": {}
      },
      "source": [
        "# data preprocessing - I\n",
        "data.dropna(inplace=True)\n",
        "\n",
        "le = LabelEncoder()\n",
        "data[\"cbwd\"] = le.fit_transform(data[\"cbwd\"])\n",
        "\n",
        "data.head()"
      ],
      "execution_count": 0,
      "outputs": []
    },
    {
      "cell_type": "code",
      "metadata": {
        "colab_type": "code",
        "id": "O2Wp7SeZFUTa",
        "trusted": true,
        "colab": {}
      },
      "source": [
        "plt.figure(dpi=105,figsize=(14,4))\n",
        "data[\"pm2.5\"].iloc[:40000].plot(legend=True)\n",
        "data[\"pm2.5\"].iloc[40000:].plot(legend=True)\n",
        "plt.legend(['Training set (40000 Hours)','Test set'])\n",
        "plt.title('PM2.5 Levels')\n",
        "plt.ylabel(\"PM2.5\")\n",
        "plt.show()"
      ],
      "execution_count": 0,
      "outputs": []
    },
    {
      "cell_type": "code",
      "metadata": {
        "colab_type": "code",
        "id": "g7ANe0bHDHSJ",
        "trusted": true,
        "colab": {}
      },
      "source": [
        "def make_dataset_many_to_one(array,time_steps):\n",
        "\n",
        "    x = []\n",
        "    y = []\n",
        "\n",
        "    for i in range(time_steps,len(array)):\n",
        "        x.append(array[i-time_steps:i])\n",
        "        y.append(array[i][-1])\n",
        "        \n",
        "    return np.array(x), np.array(y)"
      ],
      "execution_count": 0,
      "outputs": []
    },
    {
      "cell_type": "code",
      "metadata": {
        "colab_type": "code",
        "id": "XtfKlLtbG-y7",
        "trusted": true,
        "colab": {}
      },
      "source": [
        "data_cols = [\n",
        "         \"DEWP\", #Dew Point \n",
        "         \"TEMP\", #Temperature\n",
        "         \"PRES\", #Pressure\n",
        "         \"cbwd\", #Combined wind direction\n",
        "         \"Iws\",  #Cumulated wind speed\n",
        "         \"Is\",   #Cumulated hours of snow\n",
        "         \"Ir\" ,   #Cumulated hours of rain \n",
        "         \"pm2.5\" # Target Var.\n",
        "            ]\n",
        "\n",
        "\n",
        "train = data[data_cols].iloc[:40000]\n",
        "total = data[data_cols] #for testing at bottom\n",
        "train.head()"
      ],
      "execution_count": 0,
      "outputs": []
    },
    {
      "cell_type": "code",
      "metadata": {
        "trusted": true,
        "id": "UhVV47v4CtMr",
        "colab_type": "code",
        "colab": {}
      },
      "source": [
        "#scale values to [0,1]\n",
        "scaler = MinMaxScaler(feature_range=(0,1))\n",
        "scaler.fit_transform(total)\n",
        "train = scaler.transform(train)\n",
        "total = scaler.transform(total)\n",
        "\n",
        "trn_x,trn_y = make_dataset_many_to_one(train,24)  #every 24 hours.\n",
        "total_x,total_y = make_dataset_many_to_one(total,24)  #every 24 hours.\n",
        "\n",
        "trn_x = trn_x.reshape(-1,24,8)\n",
        "total_x = total_x.reshape(-1,24,8)"
      ],
      "execution_count": 0,
      "outputs": []
    },
    {
      "cell_type": "code",
      "metadata": {
        "trusted": true,
        "id": "fAkL-9ViCtMu",
        "colab_type": "code",
        "colab": {}
      },
      "source": [
        "trn_x = mxnet.nd.array(trn_x)\n",
        "trn_y = mxnet.nd.array(trn_y)\n",
        "\n",
        "total_x = mxnet.nd.array(total_x)\n",
        "total_y = mxnet.nd.array(total_y)"
      ],
      "execution_count": 0,
      "outputs": []
    },
    {
      "cell_type": "code",
      "metadata": {
        "trusted": true,
        "id": "TzK7TG2hCtMw",
        "colab_type": "code",
        "colab": {}
      },
      "source": [
        "class Net(G.Block):\n",
        "    def __init__(self, **kwargs):\n",
        "        super(Net, self).__init__(**kwargs)\n",
        "        with self.name_scope():\n",
        "            \n",
        "            self.lstm = G.rnn.LSTM(120,3,dropout=0.2)\n",
        "            self.out = G.nn.Dense(1)\n",
        "            \n",
        "    def forward(self,x):\n",
        "        \n",
        "        x = self.lstm(x)\n",
        "        x = self.out(x)\n",
        "        \n",
        "        return x\n",
        "    \n",
        "Model = Net()\n",
        "print(Model)"
      ],
      "execution_count": 0,
      "outputs": []
    },
    {
      "cell_type": "code",
      "metadata": {
        "trusted": true,
        "id": "oPGpdoRBCtMy",
        "colab_type": "code",
        "colab": {}
      },
      "source": [
        "device = mxnet.gpu(0) if mxnet.context.num_gpus() > 0 else mxnet.cpu(0)\n",
        "Model.initialize(mxnet.init.Xavier(), ctx=device)"
      ],
      "execution_count": 0,
      "outputs": []
    },
    {
      "cell_type": "code",
      "metadata": {
        "trusted": true,
        "id": "zLiMnM1rCtM1",
        "colab_type": "code",
        "colab": {}
      },
      "source": [
        "trainer = G.Trainer(\n",
        "    params=Model.collect_params(),\n",
        "    optimizer='adam',\n",
        "    optimizer_params={'learning_rate': 0.001},\n",
        ")"
      ],
      "execution_count": 0,
      "outputs": []
    },
    {
      "cell_type": "code",
      "metadata": {
        "trusted": true,
        "id": "Q7KQeSxeCtM4",
        "colab_type": "code",
        "colab": {}
      },
      "source": [
        "loss_function = G.loss.L2Loss()\n",
        "mse = mxnet.metric.MSE()"
      ],
      "execution_count": 0,
      "outputs": []
    },
    {
      "cell_type": "code",
      "metadata": {
        "trusted": true,
        "id": "Zfwc11lpCtM7",
        "colab_type": "code",
        "colab": {}
      },
      "source": [
        "from mxnet import autograd\n",
        "\n",
        "EPOCHS = 15\n",
        "\n",
        "trn_loss = []\n",
        "\n",
        "train_iter = mxnet.io.NDArrayIter(trn_x, trn_y, 100, shuffle=True)\n",
        "\n",
        "for epoch in range(EPOCHS):\n",
        "    \n",
        "    for trn_batch in train_iter:\n",
        "\n",
        "        x = trn_batch.data[0].as_in_context(device)\n",
        "        y = trn_batch.label[0].as_in_context(device)\n",
        "        \n",
        "        with autograd.record():\n",
        "            y_pred = Model(x)\n",
        "            loss = loss_function(y_pred, y)\n",
        "        \n",
        "        #backprop\n",
        "        loss.backward()\n",
        "        \n",
        "        #Optimize!\n",
        "        trainer.step(batch_size=trn_x.shape[0])\n",
        "        \n",
        "    train_iter.reset()\n",
        "    \n",
        "    # Calculate train metrics\n",
        "    \n",
        "    predictions = Model(trn_x.as_in_context(device))\n",
        "    mse.update(trn_y, predictions)\n",
        "    trn_loss.append(mse.get()[1])\n",
        "    mse.reset()\n",
        "    \n",
        "    train_iter.reset()\n",
        "    \n",
        "    print(\"epoch: {} | trn_loss: {:.8f}\".format(epoch+1,\n",
        "                                                trn_loss[-1]))"
      ],
      "execution_count": 0,
      "outputs": []
    },
    {
      "cell_type": "code",
      "metadata": {
        "trusted": true,
        "id": "QkGDWpqPCtM9",
        "colab_type": "code",
        "colab": {}
      },
      "source": [
        "pred = Model( total_x.as_in_context(device) )\n",
        "predictions = []\n",
        "\n",
        "for p in pred.asnumpy():\n",
        "    predictions.append(p[0])"
      ],
      "execution_count": 0,
      "outputs": []
    },
    {
      "cell_type": "code",
      "metadata": {
        "trusted": true,
        "id": "qF-G8IlMCtNC",
        "colab_type": "code",
        "colab": {}
      },
      "source": [
        "pm_scaler = scaler.fit(data[\"pm2.5\"].values.reshape(-1, 1))\n",
        "predicted = pm_scaler.inverse_transform( np.array(predictions).reshape(-1, 1) )    \n",
        "\n",
        "infered = pd.DataFrame(data['pm2.5'].iloc[24:])\n",
        "infered['Predicted'] = predicted"
      ],
      "execution_count": 0,
      "outputs": []
    },
    {
      "cell_type": "code",
      "metadata": {
        "trusted": true,
        "id": "6XniaUTJCtNF",
        "colab_type": "code",
        "colab": {}
      },
      "source": [
        "plt.figure(dpi=100,figsize=(11,7))\n",
        "infered[\"pm2.5\"].iloc[40000:].plot(legend=True)\n",
        "infered[\"Predicted\"].iloc[40000:].plot(legend=True, color='r')\n",
        "plt.legend(['Real','Predicted'])\n",
        "plt.title('Pollution Level')\n",
        "plt.ylabel(\"pm2.5\")\n",
        "plt.show()"
      ],
      "execution_count": 0,
      "outputs": []
    }
  ]
}